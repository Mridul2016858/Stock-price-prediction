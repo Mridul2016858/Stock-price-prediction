{
 "cells": [
  {
   "cell_type": "code",
   "execution_count": 50,
   "id": "fa4510b5",
   "metadata": {},
   "outputs": [],
   "source": [
    "import pandas as pd\n",
    "import numpy as np"
   ]
  },
  {
   "cell_type": "code",
   "execution_count": 51,
   "id": "78fd1e77",
   "metadata": {},
   "outputs": [
    {
     "data": {
      "text/html": [
       "<div>\n",
       "<style scoped>\n",
       "    .dataframe tbody tr th:only-of-type {\n",
       "        vertical-align: middle;\n",
       "    }\n",
       "\n",
       "    .dataframe tbody tr th {\n",
       "        vertical-align: top;\n",
       "    }\n",
       "\n",
       "    .dataframe thead th {\n",
       "        text-align: right;\n",
       "    }\n",
       "</style>\n",
       "<table border=\"1\" class=\"dataframe\">\n",
       "  <thead>\n",
       "    <tr style=\"text-align: right;\">\n",
       "      <th></th>\n",
       "      <th>Date</th>\n",
       "      <th>Open</th>\n",
       "      <th>High</th>\n",
       "      <th>Low</th>\n",
       "      <th>Close</th>\n",
       "      <th>Adj Close</th>\n",
       "      <th>Volume</th>\n",
       "    </tr>\n",
       "  </thead>\n",
       "  <tbody>\n",
       "    <tr>\n",
       "      <th>0</th>\n",
       "      <td>1997-05-15</td>\n",
       "      <td>2.437500</td>\n",
       "      <td>2.500000</td>\n",
       "      <td>1.927083</td>\n",
       "      <td>1.958333</td>\n",
       "      <td>1.958333</td>\n",
       "      <td>72156000</td>\n",
       "    </tr>\n",
       "    <tr>\n",
       "      <th>1</th>\n",
       "      <td>1997-05-16</td>\n",
       "      <td>1.968750</td>\n",
       "      <td>1.979167</td>\n",
       "      <td>1.708333</td>\n",
       "      <td>1.729167</td>\n",
       "      <td>1.729167</td>\n",
       "      <td>14700000</td>\n",
       "    </tr>\n",
       "    <tr>\n",
       "      <th>2</th>\n",
       "      <td>1997-05-19</td>\n",
       "      <td>1.760417</td>\n",
       "      <td>1.770833</td>\n",
       "      <td>1.625000</td>\n",
       "      <td>1.708333</td>\n",
       "      <td>1.708333</td>\n",
       "      <td>6106800</td>\n",
       "    </tr>\n",
       "    <tr>\n",
       "      <th>3</th>\n",
       "      <td>1997-05-20</td>\n",
       "      <td>1.729167</td>\n",
       "      <td>1.750000</td>\n",
       "      <td>1.635417</td>\n",
       "      <td>1.635417</td>\n",
       "      <td>1.635417</td>\n",
       "      <td>5467200</td>\n",
       "    </tr>\n",
       "    <tr>\n",
       "      <th>4</th>\n",
       "      <td>1997-05-21</td>\n",
       "      <td>1.635417</td>\n",
       "      <td>1.645833</td>\n",
       "      <td>1.375000</td>\n",
       "      <td>1.427083</td>\n",
       "      <td>1.427083</td>\n",
       "      <td>18853200</td>\n",
       "    </tr>\n",
       "    <tr>\n",
       "      <th>...</th>\n",
       "      <td>...</td>\n",
       "      <td>...</td>\n",
       "      <td>...</td>\n",
       "      <td>...</td>\n",
       "      <td>...</td>\n",
       "      <td>...</td>\n",
       "      <td>...</td>\n",
       "    </tr>\n",
       "    <tr>\n",
       "      <th>6150</th>\n",
       "      <td>2021-10-21</td>\n",
       "      <td>3414.250000</td>\n",
       "      <td>3440.280029</td>\n",
       "      <td>3403.000000</td>\n",
       "      <td>3435.010010</td>\n",
       "      <td>3435.010010</td>\n",
       "      <td>1881400</td>\n",
       "    </tr>\n",
       "    <tr>\n",
       "      <th>6151</th>\n",
       "      <td>2021-10-22</td>\n",
       "      <td>3421.000000</td>\n",
       "      <td>3429.840088</td>\n",
       "      <td>3331.300049</td>\n",
       "      <td>3335.550049</td>\n",
       "      <td>3335.550049</td>\n",
       "      <td>3133800</td>\n",
       "    </tr>\n",
       "    <tr>\n",
       "      <th>6152</th>\n",
       "      <td>2021-10-25</td>\n",
       "      <td>3335.000000</td>\n",
       "      <td>3347.800049</td>\n",
       "      <td>3297.699951</td>\n",
       "      <td>3320.370117</td>\n",
       "      <td>3320.370117</td>\n",
       "      <td>2226000</td>\n",
       "    </tr>\n",
       "    <tr>\n",
       "      <th>6153</th>\n",
       "      <td>2021-10-26</td>\n",
       "      <td>3349.510010</td>\n",
       "      <td>3416.120117</td>\n",
       "      <td>3343.979980</td>\n",
       "      <td>3376.070068</td>\n",
       "      <td>3376.070068</td>\n",
       "      <td>2693700</td>\n",
       "    </tr>\n",
       "    <tr>\n",
       "      <th>6154</th>\n",
       "      <td>2021-10-27</td>\n",
       "      <td>3388.000000</td>\n",
       "      <td>3412.000000</td>\n",
       "      <td>3371.453369</td>\n",
       "      <td>3396.189941</td>\n",
       "      <td>3396.189941</td>\n",
       "      <td>1080291</td>\n",
       "    </tr>\n",
       "  </tbody>\n",
       "</table>\n",
       "<p>6155 rows × 7 columns</p>\n",
       "</div>"
      ],
      "text/plain": [
       "            Date         Open         High          Low        Close  \\\n",
       "0     1997-05-15     2.437500     2.500000     1.927083     1.958333   \n",
       "1     1997-05-16     1.968750     1.979167     1.708333     1.729167   \n",
       "2     1997-05-19     1.760417     1.770833     1.625000     1.708333   \n",
       "3     1997-05-20     1.729167     1.750000     1.635417     1.635417   \n",
       "4     1997-05-21     1.635417     1.645833     1.375000     1.427083   \n",
       "...          ...          ...          ...          ...          ...   \n",
       "6150  2021-10-21  3414.250000  3440.280029  3403.000000  3435.010010   \n",
       "6151  2021-10-22  3421.000000  3429.840088  3331.300049  3335.550049   \n",
       "6152  2021-10-25  3335.000000  3347.800049  3297.699951  3320.370117   \n",
       "6153  2021-10-26  3349.510010  3416.120117  3343.979980  3376.070068   \n",
       "6154  2021-10-27  3388.000000  3412.000000  3371.453369  3396.189941   \n",
       "\n",
       "        Adj Close    Volume  \n",
       "0        1.958333  72156000  \n",
       "1        1.729167  14700000  \n",
       "2        1.708333   6106800  \n",
       "3        1.635417   5467200  \n",
       "4        1.427083  18853200  \n",
       "...           ...       ...  \n",
       "6150  3435.010010   1881400  \n",
       "6151  3335.550049   3133800  \n",
       "6152  3320.370117   2226000  \n",
       "6153  3376.070068   2693700  \n",
       "6154  3396.189941   1080291  \n",
       "\n",
       "[6155 rows x 7 columns]"
      ]
     },
     "execution_count": 51,
     "metadata": {},
     "output_type": "execute_result"
    }
   ],
   "source": [
    "amazon=pd.read_csv(\"Amazon.csv\")\n",
    "amazon"
   ]
  },
  {
   "cell_type": "code",
   "execution_count": 52,
   "id": "40cfa38d",
   "metadata": {},
   "outputs": [
    {
     "data": {
      "text/plain": [
       "Date         0\n",
       "Open         0\n",
       "High         0\n",
       "Low          0\n",
       "Close        0\n",
       "Adj Close    0\n",
       "Volume       0\n",
       "dtype: int64"
      ]
     },
     "execution_count": 52,
     "metadata": {},
     "output_type": "execute_result"
    }
   ],
   "source": [
    "amazon.isna().sum()"
   ]
  },
  {
   "cell_type": "code",
   "execution_count": 53,
   "id": "16a4a031",
   "metadata": {},
   "outputs": [
    {
     "name": "stdout",
     "output_type": "stream",
     "text": [
      "(6155, 5)\n"
     ]
    },
    {
     "data": {
      "text/html": [
       "<div>\n",
       "<style scoped>\n",
       "    .dataframe tbody tr th:only-of-type {\n",
       "        vertical-align: middle;\n",
       "    }\n",
       "\n",
       "    .dataframe tbody tr th {\n",
       "        vertical-align: top;\n",
       "    }\n",
       "\n",
       "    .dataframe thead th {\n",
       "        text-align: right;\n",
       "    }\n",
       "</style>\n",
       "<table border=\"1\" class=\"dataframe\">\n",
       "  <thead>\n",
       "    <tr style=\"text-align: right;\">\n",
       "      <th></th>\n",
       "      <th>Open</th>\n",
       "      <th>High</th>\n",
       "      <th>Low</th>\n",
       "      <th>Close</th>\n",
       "      <th>Volume</th>\n",
       "    </tr>\n",
       "  </thead>\n",
       "  <tbody>\n",
       "    <tr>\n",
       "      <th>0</th>\n",
       "      <td>2.437500</td>\n",
       "      <td>2.500000</td>\n",
       "      <td>1.927083</td>\n",
       "      <td>1.958333</td>\n",
       "      <td>72156000</td>\n",
       "    </tr>\n",
       "    <tr>\n",
       "      <th>1</th>\n",
       "      <td>1.968750</td>\n",
       "      <td>1.979167</td>\n",
       "      <td>1.708333</td>\n",
       "      <td>1.729167</td>\n",
       "      <td>14700000</td>\n",
       "    </tr>\n",
       "    <tr>\n",
       "      <th>2</th>\n",
       "      <td>1.760417</td>\n",
       "      <td>1.770833</td>\n",
       "      <td>1.625000</td>\n",
       "      <td>1.708333</td>\n",
       "      <td>6106800</td>\n",
       "    </tr>\n",
       "    <tr>\n",
       "      <th>3</th>\n",
       "      <td>1.729167</td>\n",
       "      <td>1.750000</td>\n",
       "      <td>1.635417</td>\n",
       "      <td>1.635417</td>\n",
       "      <td>5467200</td>\n",
       "    </tr>\n",
       "    <tr>\n",
       "      <th>4</th>\n",
       "      <td>1.635417</td>\n",
       "      <td>1.645833</td>\n",
       "      <td>1.375000</td>\n",
       "      <td>1.427083</td>\n",
       "      <td>18853200</td>\n",
       "    </tr>\n",
       "    <tr>\n",
       "      <th>...</th>\n",
       "      <td>...</td>\n",
       "      <td>...</td>\n",
       "      <td>...</td>\n",
       "      <td>...</td>\n",
       "      <td>...</td>\n",
       "    </tr>\n",
       "    <tr>\n",
       "      <th>6150</th>\n",
       "      <td>3414.250000</td>\n",
       "      <td>3440.280029</td>\n",
       "      <td>3403.000000</td>\n",
       "      <td>3435.010010</td>\n",
       "      <td>1881400</td>\n",
       "    </tr>\n",
       "    <tr>\n",
       "      <th>6151</th>\n",
       "      <td>3421.000000</td>\n",
       "      <td>3429.840088</td>\n",
       "      <td>3331.300049</td>\n",
       "      <td>3335.550049</td>\n",
       "      <td>3133800</td>\n",
       "    </tr>\n",
       "    <tr>\n",
       "      <th>6152</th>\n",
       "      <td>3335.000000</td>\n",
       "      <td>3347.800049</td>\n",
       "      <td>3297.699951</td>\n",
       "      <td>3320.370117</td>\n",
       "      <td>2226000</td>\n",
       "    </tr>\n",
       "    <tr>\n",
       "      <th>6153</th>\n",
       "      <td>3349.510010</td>\n",
       "      <td>3416.120117</td>\n",
       "      <td>3343.979980</td>\n",
       "      <td>3376.070068</td>\n",
       "      <td>2693700</td>\n",
       "    </tr>\n",
       "    <tr>\n",
       "      <th>6154</th>\n",
       "      <td>3388.000000</td>\n",
       "      <td>3412.000000</td>\n",
       "      <td>3371.453369</td>\n",
       "      <td>3396.189941</td>\n",
       "      <td>1080291</td>\n",
       "    </tr>\n",
       "  </tbody>\n",
       "</table>\n",
       "<p>6155 rows × 5 columns</p>\n",
       "</div>"
      ],
      "text/plain": [
       "             Open         High          Low        Close    Volume\n",
       "0        2.437500     2.500000     1.927083     1.958333  72156000\n",
       "1        1.968750     1.979167     1.708333     1.729167  14700000\n",
       "2        1.760417     1.770833     1.625000     1.708333   6106800\n",
       "3        1.729167     1.750000     1.635417     1.635417   5467200\n",
       "4        1.635417     1.645833     1.375000     1.427083  18853200\n",
       "...           ...          ...          ...          ...       ...\n",
       "6150  3414.250000  3440.280029  3403.000000  3435.010010   1881400\n",
       "6151  3421.000000  3429.840088  3331.300049  3335.550049   3133800\n",
       "6152  3335.000000  3347.800049  3297.699951  3320.370117   2226000\n",
       "6153  3349.510010  3416.120117  3343.979980  3376.070068   2693700\n",
       "6154  3388.000000  3412.000000  3371.453369  3396.189941   1080291\n",
       "\n",
       "[6155 rows x 5 columns]"
      ]
     },
     "execution_count": 53,
     "metadata": {},
     "output_type": "execute_result"
    }
   ],
   "source": [
    "del amazon[\"Date\"]\n",
    "del amazon[\"Adj Close\"]\n",
    "print(amazon.shape)\n",
    "amazon"
   ]
  },
  {
   "cell_type": "code",
   "execution_count": 54,
   "id": "9b1a6d3f",
   "metadata": {},
   "outputs": [
    {
     "data": {
      "text/plain": [
       "(6155, 1)"
      ]
     },
     "execution_count": 54,
     "metadata": {},
     "output_type": "execute_result"
    }
   ],
   "source": [
    "Y=np.array([amazon.Close])\n",
    "Y=Y.T\n",
    "Y.shape"
   ]
  },
  {
   "cell_type": "code",
   "execution_count": 55,
   "id": "8706a005",
   "metadata": {},
   "outputs": [
    {
     "data": {
      "text/html": [
       "<div>\n",
       "<style scoped>\n",
       "    .dataframe tbody tr th:only-of-type {\n",
       "        vertical-align: middle;\n",
       "    }\n",
       "\n",
       "    .dataframe tbody tr th {\n",
       "        vertical-align: top;\n",
       "    }\n",
       "\n",
       "    .dataframe thead th {\n",
       "        text-align: right;\n",
       "    }\n",
       "</style>\n",
       "<table border=\"1\" class=\"dataframe\">\n",
       "  <thead>\n",
       "    <tr style=\"text-align: right;\">\n",
       "      <th></th>\n",
       "      <th>Open</th>\n",
       "      <th>High</th>\n",
       "      <th>Low</th>\n",
       "      <th>Volume</th>\n",
       "    </tr>\n",
       "  </thead>\n",
       "  <tbody>\n",
       "    <tr>\n",
       "      <th>0</th>\n",
       "      <td>2.437500</td>\n",
       "      <td>2.500000</td>\n",
       "      <td>1.927083</td>\n",
       "      <td>72156000</td>\n",
       "    </tr>\n",
       "    <tr>\n",
       "      <th>1</th>\n",
       "      <td>1.968750</td>\n",
       "      <td>1.979167</td>\n",
       "      <td>1.708333</td>\n",
       "      <td>14700000</td>\n",
       "    </tr>\n",
       "    <tr>\n",
       "      <th>2</th>\n",
       "      <td>1.760417</td>\n",
       "      <td>1.770833</td>\n",
       "      <td>1.625000</td>\n",
       "      <td>6106800</td>\n",
       "    </tr>\n",
       "    <tr>\n",
       "      <th>3</th>\n",
       "      <td>1.729167</td>\n",
       "      <td>1.750000</td>\n",
       "      <td>1.635417</td>\n",
       "      <td>5467200</td>\n",
       "    </tr>\n",
       "    <tr>\n",
       "      <th>4</th>\n",
       "      <td>1.635417</td>\n",
       "      <td>1.645833</td>\n",
       "      <td>1.375000</td>\n",
       "      <td>18853200</td>\n",
       "    </tr>\n",
       "    <tr>\n",
       "      <th>...</th>\n",
       "      <td>...</td>\n",
       "      <td>...</td>\n",
       "      <td>...</td>\n",
       "      <td>...</td>\n",
       "    </tr>\n",
       "    <tr>\n",
       "      <th>6150</th>\n",
       "      <td>3414.250000</td>\n",
       "      <td>3440.280029</td>\n",
       "      <td>3403.000000</td>\n",
       "      <td>1881400</td>\n",
       "    </tr>\n",
       "    <tr>\n",
       "      <th>6151</th>\n",
       "      <td>3421.000000</td>\n",
       "      <td>3429.840088</td>\n",
       "      <td>3331.300049</td>\n",
       "      <td>3133800</td>\n",
       "    </tr>\n",
       "    <tr>\n",
       "      <th>6152</th>\n",
       "      <td>3335.000000</td>\n",
       "      <td>3347.800049</td>\n",
       "      <td>3297.699951</td>\n",
       "      <td>2226000</td>\n",
       "    </tr>\n",
       "    <tr>\n",
       "      <th>6153</th>\n",
       "      <td>3349.510010</td>\n",
       "      <td>3416.120117</td>\n",
       "      <td>3343.979980</td>\n",
       "      <td>2693700</td>\n",
       "    </tr>\n",
       "    <tr>\n",
       "      <th>6154</th>\n",
       "      <td>3388.000000</td>\n",
       "      <td>3412.000000</td>\n",
       "      <td>3371.453369</td>\n",
       "      <td>1080291</td>\n",
       "    </tr>\n",
       "  </tbody>\n",
       "</table>\n",
       "<p>6155 rows × 4 columns</p>\n",
       "</div>"
      ],
      "text/plain": [
       "             Open         High          Low    Volume\n",
       "0        2.437500     2.500000     1.927083  72156000\n",
       "1        1.968750     1.979167     1.708333  14700000\n",
       "2        1.760417     1.770833     1.625000   6106800\n",
       "3        1.729167     1.750000     1.635417   5467200\n",
       "4        1.635417     1.645833     1.375000  18853200\n",
       "...           ...          ...          ...       ...\n",
       "6150  3414.250000  3440.280029  3403.000000   1881400\n",
       "6151  3421.000000  3429.840088  3331.300049   3133800\n",
       "6152  3335.000000  3347.800049  3297.699951   2226000\n",
       "6153  3349.510010  3416.120117  3343.979980   2693700\n",
       "6154  3388.000000  3412.000000  3371.453369   1080291\n",
       "\n",
       "[6155 rows x 4 columns]"
      ]
     },
     "execution_count": 55,
     "metadata": {},
     "output_type": "execute_result"
    }
   ],
   "source": [
    "del amazon[\"Close\"]\n",
    "amazon"
   ]
  },
  {
   "cell_type": "code",
   "execution_count": 56,
   "id": "2409dd27",
   "metadata": {},
   "outputs": [
    {
     "data": {
      "text/plain": [
       "(6155, 4)"
      ]
     },
     "execution_count": 56,
     "metadata": {},
     "output_type": "execute_result"
    }
   ],
   "source": [
    "#it will create 2d array\n",
    "X=amazon.values\n",
    "X.shape"
   ]
  },
  {
   "cell_type": "code",
   "execution_count": 57,
   "id": "b09b258b",
   "metadata": {},
   "outputs": [],
   "source": [
    "from sklearn.model_selection import train_test_split\n",
    "from sklearn.linear_model import LinearRegression"
   ]
  },
  {
   "cell_type": "code",
   "execution_count": 58,
   "id": "9c5edc76",
   "metadata": {},
   "outputs": [
    {
     "data": {
      "text/plain": [
       "((4616, 4), (1539, 4), (4616, 1), (1539, 1))"
      ]
     },
     "execution_count": 58,
     "metadata": {},
     "output_type": "execute_result"
    }
   ],
   "source": [
    "x_train,x_test,y_train,y_test=train_test_split(X,Y,random_state=0)\n",
    "x_train.shape,x_test.shape,y_train.shape,y_test.shape"
   ]
  },
  {
   "cell_type": "code",
   "execution_count": 59,
   "id": "7a43dcb5",
   "metadata": {},
   "outputs": [],
   "source": [
    "clf=LinearRegression()\n",
    "clf.fit(x_train,y_train)\n",
    "#predict function gives the predicted value using x values\n",
    "y_predict=clf.predict(x_test)"
   ]
  },
  {
   "cell_type": "code",
   "execution_count": 60,
   "id": "d1bae3de",
   "metadata": {},
   "outputs": [
    {
     "data": {
      "text/plain": [
       "0.99995311855701"
      ]
     },
     "execution_count": 60,
     "metadata": {},
     "output_type": "execute_result"
    }
   ],
   "source": [
    "clf.score(x_test,y_test)"
   ]
  },
  {
   "cell_type": "code",
   "execution_count": null,
   "id": "580105cb",
   "metadata": {},
   "outputs": [
    {
     "name": "stdout",
     "output_type": "stream",
     "text": [
      "Enter opening Price :1.63\n"
     ]
    }
   ],
   "source": [
    "open_=float(input(\"Enter opening Price :\"))\n",
    "high_=float(input(\"Enter highest Price :\"))\n",
    "low_=float(input(\"Enter lowest Price :\"))\n",
    "volume_=int(input(\"Enter total volume :\"))\n",
    "if high_ < low_:\n",
    "    print(\"Low price has to be higher than high\")\n",
    "if open_<0 or high_<0 or low_<0 or volume_<0:\n",
    "    print(\"Price can't be negative\")\n",
    "else:\n",
    "    test_=np.array([[open_,high_,low_,volume_]])\n",
    "    pred=clf.predict(test_)\n",
    "    print(\"The approx closing price is : \",pred[0])"
   ]
  },
  {
   "cell_type": "code",
   "execution_count": null,
   "id": "fa8a384f",
   "metadata": {},
   "outputs": [],
   "source": []
  },
  {
   "cell_type": "code",
   "execution_count": null,
   "id": "5b3d5001",
   "metadata": {},
   "outputs": [],
   "source": []
  },
  {
   "cell_type": "code",
   "execution_count": null,
   "id": "250b5cd9",
   "metadata": {},
   "outputs": [],
   "source": []
  },
  {
   "cell_type": "code",
   "execution_count": null,
   "id": "06a0ac8b",
   "metadata": {},
   "outputs": [],
   "source": []
  }
 ],
 "metadata": {
  "kernelspec": {
   "display_name": "Python 3",
   "language": "python",
   "name": "python3"
  },
  "language_info": {
   "codemirror_mode": {
    "name": "ipython",
    "version": 3
   },
   "file_extension": ".py",
   "mimetype": "text/x-python",
   "name": "python",
   "nbconvert_exporter": "python",
   "pygments_lexer": "ipython3",
   "version": "3.8.8"
  }
 },
 "nbformat": 4,
 "nbformat_minor": 5
}
